{
 "cells": [
  {
   "cell_type": "code",
   "execution_count": 2,
   "metadata": {},
   "outputs": [
    {
     "name": "stdout",
     "output_type": "stream",
     "text": [
      "   identifier                        birth_place native_language  \\\n",
      "0  afrikaans1             virginia, south africa       afrikaans   \n",
      "1  afrikaans2             pretoria, south africa       afrikaans   \n",
      "2  afrikaans3  pretoria, transvaal, south africa       afrikaans   \n",
      "3  afrikaans4             pretoria, south africa       afrikaans   \n",
      "4  afrikaans5            cape town, south africa       afrikaans   \n",
      "\n",
      "          other_languages   age     sex  age_of_english_onset  \\\n",
      "0                  tswana  27.0  female                   9.0   \n",
      "1     dutch german french  40.0    male                   5.0   \n",
      "2  gujarati sindhi french  43.0    male                   4.0   \n",
      "3           flemish dutch  26.0    male                   8.0   \n",
      "4                    none  19.0    male                   6.0   \n",
      "\n",
      "  english_learning_method english_residence length_of_english_residence  \\\n",
      "0                academic               usa                   0.5 years   \n",
      "1                academic               usa                    10 years   \n",
      "2            naturalistic               usa                  20.7 years   \n",
      "3                academic               usa                    15 years   \n",
      "4                academic         australia                     9 years   \n",
      "\n",
      "         mp3_name  \n",
      "0  afrikaans1.mp3  \n",
      "1  afrikaans2.mp3  \n",
      "2  afrikaans3.mp3  \n",
      "3  afrikaans4.mp3  \n",
      "4  afrikaans5.mp3  \n"
     ]
    }
   ],
   "source": [
    "import pandas as pd\n",
    "\n",
    "df = pd.read_csv('speakers.csv')\n",
    "print(df.head())"
   ]
  },
  {
   "cell_type": "code",
   "execution_count": 15,
   "metadata": {},
   "outputs": [
    {
     "name": "stdout",
     "output_type": "stream",
     "text": [
      "   identifier                        birth_place native_language  \\\n",
      "0  afrikaans1             virginia, south africa       afrikaans   \n",
      "1  afrikaans2             pretoria, south africa       afrikaans   \n",
      "2  afrikaans3  pretoria, transvaal, south africa       afrikaans   \n",
      "3  afrikaans4             pretoria, south africa       afrikaans   \n",
      "4  afrikaans5            cape town, south africa       afrikaans   \n",
      "\n",
      "          other_languages   age     sex  age_of_english_onset  \\\n",
      "0                  tswana  27.0  female                   9.0   \n",
      "1     dutch german french  40.0    male                   5.0   \n",
      "2  gujarati sindhi french  43.0    male                   4.0   \n",
      "3           flemish dutch  26.0    male                   8.0   \n",
      "4                    none  19.0    male                   6.0   \n",
      "\n",
      "  english_learning_method english_residence length_of_english_residence  \\\n",
      "0                academic               usa                   0.5 years   \n",
      "1                academic               usa                    10 years   \n",
      "2            naturalistic               usa                  20.7 years   \n",
      "3                academic               usa                    15 years   \n",
      "4                academic         australia                     9 years   \n",
      "\n",
      "         mp3_name     length  \n",
      "0  afrikaans1.mp3  20.772268  \n",
      "1  afrikaans2.mp3  21.961497  \n",
      "2  afrikaans3.mp3  26.880000  \n",
      "3  afrikaans4.mp3  23.471179  \n",
      "4  afrikaans5.mp3  20.252404  \n"
     ]
    }
   ],
   "source": [
    "import mutagen.mp3\n",
    "directory = 'mp3s'\n",
    "#just the mp3_name\n",
    "temp_df = df['mp3_name']\n",
    "\n",
    "length = []\n",
    "\n",
    "for mp3 in temp_df:\n",
    "    audio = mutagen.mp3.MP3(directory + '/' + mp3)\n",
    "    length.append(audio.info.length)\n",
    "#df.insert(11, 'length', length)\n",
    "#temp_df.insert(1, 'length', length)\n",
    "print(df.head())\n",
    "\n"
   ]
  },
  {
   "cell_type": "code",
   "execution_count": 19,
   "metadata": {},
   "outputs": [
    {
     "data": {
      "image/png": "[encoded data removed]",
      "text/plain": [
       "<Figure size 640x480 with 1 Axes>"
      ]
     },
     "metadata": {},
     "output_type": "display_data"
    },
    {
     "name": "stdout",
     "output_type": "stream",
     "text": [
      "Mean length: 28.36518369653683\n",
      "Standard deviation: 8.123889886541065\n"
     ]
    }
   ],
   "source": [
    "import numpy as np\n",
    "#print spread of lengths\n",
    "import matplotlib.pyplot as plt\n",
    "plt.hist(length, bins=100)\n",
    "plt.title('Length of MP3s')\n",
    "plt.xlabel('Length (s)')\n",
    "plt.ylabel('Frequency')\n",
    "plt.show()\n",
    "mean_length = np.mean(length)\n",
    "std_length = np.std(length)\n",
    "\n",
    "print(\"Mean length:\", mean_length)\n",
    "print(\"Standard deviation:\", std_length)\n",
    "\n"
   ]
  },
  {
   "cell_type": "code",
   "execution_count": null,
   "metadata": {},
   "outputs": [],
   "source": []
  }
 ],
 "metadata": {
  "kernelspec": {
   "display_name": "venv",
   "language": "python",
   "name": "python3"
  },
  "language_info": {
   "codemirror_mode": {
    "name": "ipython",
    "version": 3
   },
   "file_extension": ".py",
   "mimetype": "text/x-python",
   "name": "python",
   "nbconvert_exporter": "python",
   "pygments_lexer": "ipython3",
   "version": "3.12.2"
  }
 },
 "nbformat": 4,
 "nbformat_minor": 2
}
